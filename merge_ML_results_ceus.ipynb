{
 "cells": [
  {
   "cell_type": "code",
   "execution_count": 59,
   "id": "initial_id",
   "metadata": {
    "collapsed": true,
    "ExecuteTime": {
     "end_time": "2024-01-22T14:13:00.023417900Z",
     "start_time": "2024-01-22T14:12:59.997448900Z"
    }
   },
   "outputs": [],
   "source": [
    "import numpy as np\n",
    "import pandas as pd"
   ]
  },
  {
   "cell_type": "code",
   "outputs": [],
   "source": [
    "df_ceus_val = pd.read_csv('resources/results/ceus/cv_val_prediction.csv', index_col=0)\n",
    "df_ceus_test = pd.read_csv('resources/results/ceus/test_prediction.csv', index_col=0)"
   ],
   "metadata": {
    "collapsed": false,
    "ExecuteTime": {
     "end_time": "2024-01-22T14:13:00.197378400Z",
     "start_time": "2024-01-22T14:13:00.156480Z"
    }
   },
   "id": "ced4e2b15cadc8c8",
   "execution_count": 60
  },
  {
   "cell_type": "code",
   "outputs": [],
   "source": [
    "df_ceus = pd.concat([df_ceus_val, df_ceus_test])"
   ],
   "metadata": {
    "collapsed": false,
    "ExecuteTime": {
     "end_time": "2024-01-22T14:13:00.311044600Z",
     "start_time": "2024-01-22T14:13:00.292090700Z"
    }
   },
   "id": "77a54e5876045122",
   "execution_count": 61
  },
  {
   "cell_type": "code",
   "outputs": [
    {
     "data": {
      "text/plain": "186"
     },
     "execution_count": 62,
     "metadata": {},
     "output_type": "execute_result"
    }
   ],
   "source": [
    "_index_list = list(df_ceus.index)\n",
    "index_list = [i.split('_')[0] for i in _index_list]\n",
    "index_set = set(index_list)\n",
    "len(index_set)"
   ],
   "metadata": {
    "collapsed": false,
    "ExecuteTime": {
     "end_time": "2024-01-22T14:13:00.436730400Z",
     "start_time": "2024-01-22T14:13:00.411769900Z"
    }
   },
   "id": "86a9745be078f6eb",
   "execution_count": 62
  },
  {
   "cell_type": "code",
   "outputs": [],
   "source": [
    "data_ceus_0 = {}\n",
    "data_ceus_1 = {}"
   ],
   "metadata": {
    "collapsed": false,
    "ExecuteTime": {
     "end_time": "2024-01-22T14:13:00.613275300Z",
     "start_time": "2024-01-22T14:13:00.585343200Z"
    }
   },
   "id": "6ed31af3c5b32595",
   "execution_count": 63
  },
  {
   "cell_type": "code",
   "outputs": [],
   "source": [
    "for row in df_ceus.itertuples():\n",
    "    index = row.Index\n",
    "    pred = row.Pred\n",
    "    label = row.Label\n",
    "\n",
    "    if label == 0:\n",
    "        pre_index = index.split('_')[0]\n",
    "        if pre_index not in list(data_ceus_0.keys()):\n",
    "            data_ceus_0[pre_index] = []\n",
    "        data_ceus_0[pre_index].append(pred)\n",
    "    else:\n",
    "        pre_index = index.split('_')[0]\n",
    "        if pre_index not in list(data_ceus_1.keys()):\n",
    "            data_ceus_1[pre_index] = []\n",
    "        data_ceus_1[pre_index].append(pred)"
   ],
   "metadata": {
    "collapsed": false,
    "ExecuteTime": {
     "end_time": "2024-01-22T14:13:00.776803Z",
     "start_time": "2024-01-22T14:13:00.731951400Z"
    }
   },
   "id": "f8a51a845757e6bc",
   "execution_count": 64
  },
  {
   "cell_type": "code",
   "outputs": [
    {
     "data": {
      "text/plain": "(109, 77)"
     },
     "execution_count": 65,
     "metadata": {},
     "output_type": "execute_result"
    }
   ],
   "source": [
    "len(data_ceus_0.keys()), len(data_ceus_1.keys())"
   ],
   "metadata": {
    "collapsed": false,
    "ExecuteTime": {
     "end_time": "2024-01-22T14:13:00.882519900Z",
     "start_time": "2024-01-22T14:13:00.872586Z"
    }
   },
   "id": "23610c26ec87fe4e",
   "execution_count": 65
  },
  {
   "cell_type": "code",
   "outputs": [],
   "source": [
    "df_ceus_merged_data_0 = {\n",
    "    'patient_ID': [],\n",
    "    'Pred': [],\n",
    "    'Label': []\n",
    "}\n",
    "\n",
    "df_ceus_merged_data_1 = {\n",
    "    'patient_ID': [],\n",
    "    'Pred': [],\n",
    "    'Label': []\n",
    "}"
   ],
   "metadata": {
    "collapsed": false,
    "ExecuteTime": {
     "end_time": "2024-01-22T14:13:01.054059900Z",
     "start_time": "2024-01-22T14:13:01.020151900Z"
    }
   },
   "id": "6121e31287f86df8",
   "execution_count": 66
  },
  {
   "cell_type": "code",
   "outputs": [],
   "source": [
    "for key in data_ceus_0.keys():\n",
    "    Pred_value = np.min(np.array(data_ceus_0[key]))\n",
    "    df_ceus_merged_data_0['patient_ID'].append(key)\n",
    "    df_ceus_merged_data_0['Pred'].append(Pred_value)\n",
    "    df_ceus_merged_data_0['Label'].append(0)"
   ],
   "metadata": {
    "collapsed": false,
    "ExecuteTime": {
     "end_time": "2024-01-22T14:13:01.194721400Z",
     "start_time": "2024-01-22T14:13:01.174769200Z"
    }
   },
   "id": "ca539140bf735dc8",
   "execution_count": 67
  },
  {
   "cell_type": "code",
   "outputs": [],
   "source": [
    "for key in data_ceus_1.keys():\n",
    "    Pred_value = np.max(np.array(data_ceus_1[key]))\n",
    "    df_ceus_merged_data_1['patient_ID'].append(key)\n",
    "    df_ceus_merged_data_1['Pred'].append(Pred_value)\n",
    "    df_ceus_merged_data_1['Label'].append(1)"
   ],
   "metadata": {
    "collapsed": false,
    "ExecuteTime": {
     "end_time": "2024-01-22T14:13:01.327359Z",
     "start_time": "2024-01-22T14:13:01.320349300Z"
    }
   },
   "id": "a3244cc648b3361",
   "execution_count": 68
  },
  {
   "cell_type": "code",
   "outputs": [],
   "source": [
    "df1 = pd.DataFrame(df_ceus_merged_data_0)\n",
    "df2 = pd.DataFrame(df_ceus_merged_data_1)"
   ],
   "metadata": {
    "collapsed": false,
    "ExecuteTime": {
     "end_time": "2024-01-22T14:13:01.494884400Z",
     "start_time": "2024-01-22T14:13:01.462967100Z"
    }
   },
   "id": "117fcbc5b0ee79a7",
   "execution_count": 69
  },
  {
   "cell_type": "code",
   "outputs": [
    {
     "data": {
      "text/plain": "      patient_ID      Pred  Label\n0     2005050152  0.510683      1\n1     2006180711  0.785324      1\n2     2006260667  0.637014      1\n3     2006260791  0.487293      1\n4     2007020957  0.774744      1\n..           ...       ...    ...\n72    2204061771  0.554221      1\n73    2305111175  0.649664      1\n74    2307281516  0.596124      1\n75    2308011043  0.558179      1\n76  231024231775  0.459236      1\n\n[77 rows x 3 columns]",
      "text/html": "<div>\n<style scoped>\n    .dataframe tbody tr th:only-of-type {\n        vertical-align: middle;\n    }\n\n    .dataframe tbody tr th {\n        vertical-align: top;\n    }\n\n    .dataframe thead th {\n        text-align: right;\n    }\n</style>\n<table border=\"1\" class=\"dataframe\">\n  <thead>\n    <tr style=\"text-align: right;\">\n      <th></th>\n      <th>patient_ID</th>\n      <th>Pred</th>\n      <th>Label</th>\n    </tr>\n  </thead>\n  <tbody>\n    <tr>\n      <th>0</th>\n      <td>2005050152</td>\n      <td>0.510683</td>\n      <td>1</td>\n    </tr>\n    <tr>\n      <th>1</th>\n      <td>2006180711</td>\n      <td>0.785324</td>\n      <td>1</td>\n    </tr>\n    <tr>\n      <th>2</th>\n      <td>2006260667</td>\n      <td>0.637014</td>\n      <td>1</td>\n    </tr>\n    <tr>\n      <th>3</th>\n      <td>2006260791</td>\n      <td>0.487293</td>\n      <td>1</td>\n    </tr>\n    <tr>\n      <th>4</th>\n      <td>2007020957</td>\n      <td>0.774744</td>\n      <td>1</td>\n    </tr>\n    <tr>\n      <th>...</th>\n      <td>...</td>\n      <td>...</td>\n      <td>...</td>\n    </tr>\n    <tr>\n      <th>72</th>\n      <td>2204061771</td>\n      <td>0.554221</td>\n      <td>1</td>\n    </tr>\n    <tr>\n      <th>73</th>\n      <td>2305111175</td>\n      <td>0.649664</td>\n      <td>1</td>\n    </tr>\n    <tr>\n      <th>74</th>\n      <td>2307281516</td>\n      <td>0.596124</td>\n      <td>1</td>\n    </tr>\n    <tr>\n      <th>75</th>\n      <td>2308011043</td>\n      <td>0.558179</td>\n      <td>1</td>\n    </tr>\n    <tr>\n      <th>76</th>\n      <td>231024231775</td>\n      <td>0.459236</td>\n      <td>1</td>\n    </tr>\n  </tbody>\n</table>\n<p>77 rows × 3 columns</p>\n</div>"
     },
     "execution_count": 70,
     "metadata": {},
     "output_type": "execute_result"
    }
   ],
   "source": [
    "df2"
   ],
   "metadata": {
    "collapsed": false,
    "ExecuteTime": {
     "end_time": "2024-01-22T14:13:01.675139200Z",
     "start_time": "2024-01-22T14:13:01.636245600Z"
    }
   },
   "id": "7a0566d1368f42b4",
   "execution_count": 70
  },
  {
   "cell_type": "code",
   "outputs": [
    {
     "data": {
      "text/plain": "       patient_ID      Pred  Label\n0      2004070156  0.530219      0\n1      2004200282  0.468497      0\n2      2005131682  0.491297      0\n3      2005180570  0.412008      0\n4      2005221627  0.494500      0\n..            ...       ...    ...\n104    2306141332  0.452598      0\n105    2307211746  0.463861      0\n106    2309263589  0.648470      0\n107    2310085301  0.528989      0\n108  231110331059  0.533826      0\n\n[109 rows x 3 columns]",
      "text/html": "<div>\n<style scoped>\n    .dataframe tbody tr th:only-of-type {\n        vertical-align: middle;\n    }\n\n    .dataframe tbody tr th {\n        vertical-align: top;\n    }\n\n    .dataframe thead th {\n        text-align: right;\n    }\n</style>\n<table border=\"1\" class=\"dataframe\">\n  <thead>\n    <tr style=\"text-align: right;\">\n      <th></th>\n      <th>patient_ID</th>\n      <th>Pred</th>\n      <th>Label</th>\n    </tr>\n  </thead>\n  <tbody>\n    <tr>\n      <th>0</th>\n      <td>2004070156</td>\n      <td>0.530219</td>\n      <td>0</td>\n    </tr>\n    <tr>\n      <th>1</th>\n      <td>2004200282</td>\n      <td>0.468497</td>\n      <td>0</td>\n    </tr>\n    <tr>\n      <th>2</th>\n      <td>2005131682</td>\n      <td>0.491297</td>\n      <td>0</td>\n    </tr>\n    <tr>\n      <th>3</th>\n      <td>2005180570</td>\n      <td>0.412008</td>\n      <td>0</td>\n    </tr>\n    <tr>\n      <th>4</th>\n      <td>2005221627</td>\n      <td>0.494500</td>\n      <td>0</td>\n    </tr>\n    <tr>\n      <th>...</th>\n      <td>...</td>\n      <td>...</td>\n      <td>...</td>\n    </tr>\n    <tr>\n      <th>104</th>\n      <td>2306141332</td>\n      <td>0.452598</td>\n      <td>0</td>\n    </tr>\n    <tr>\n      <th>105</th>\n      <td>2307211746</td>\n      <td>0.463861</td>\n      <td>0</td>\n    </tr>\n    <tr>\n      <th>106</th>\n      <td>2309263589</td>\n      <td>0.648470</td>\n      <td>0</td>\n    </tr>\n    <tr>\n      <th>107</th>\n      <td>2310085301</td>\n      <td>0.528989</td>\n      <td>0</td>\n    </tr>\n    <tr>\n      <th>108</th>\n      <td>231110331059</td>\n      <td>0.533826</td>\n      <td>0</td>\n    </tr>\n  </tbody>\n</table>\n<p>109 rows × 3 columns</p>\n</div>"
     },
     "execution_count": 71,
     "metadata": {},
     "output_type": "execute_result"
    }
   ],
   "source": [
    "df1"
   ],
   "metadata": {
    "collapsed": false,
    "ExecuteTime": {
     "end_time": "2024-01-22T14:13:01.908516Z",
     "start_time": "2024-01-22T14:13:01.827759300Z"
    }
   },
   "id": "be85615780b86c09",
   "execution_count": 71
  },
  {
   "cell_type": "code",
   "outputs": [
    {
     "data": {
      "text/plain": "      patient_ID      Pred  Label\n0     2004070156  0.530219      0\n1     2004200282  0.468497      0\n2     2005131682  0.491297      0\n3     2005180570  0.412008      0\n4     2005221627  0.494500      0\n..           ...       ...    ...\n72    2204061771  0.554221      1\n73    2305111175  0.649664      1\n74    2307281516  0.596124      1\n75    2308011043  0.558179      1\n76  231024231775  0.459236      1\n\n[186 rows x 3 columns]",
      "text/html": "<div>\n<style scoped>\n    .dataframe tbody tr th:only-of-type {\n        vertical-align: middle;\n    }\n\n    .dataframe tbody tr th {\n        vertical-align: top;\n    }\n\n    .dataframe thead th {\n        text-align: right;\n    }\n</style>\n<table border=\"1\" class=\"dataframe\">\n  <thead>\n    <tr style=\"text-align: right;\">\n      <th></th>\n      <th>patient_ID</th>\n      <th>Pred</th>\n      <th>Label</th>\n    </tr>\n  </thead>\n  <tbody>\n    <tr>\n      <th>0</th>\n      <td>2004070156</td>\n      <td>0.530219</td>\n      <td>0</td>\n    </tr>\n    <tr>\n      <th>1</th>\n      <td>2004200282</td>\n      <td>0.468497</td>\n      <td>0</td>\n    </tr>\n    <tr>\n      <th>2</th>\n      <td>2005131682</td>\n      <td>0.491297</td>\n      <td>0</td>\n    </tr>\n    <tr>\n      <th>3</th>\n      <td>2005180570</td>\n      <td>0.412008</td>\n      <td>0</td>\n    </tr>\n    <tr>\n      <th>4</th>\n      <td>2005221627</td>\n      <td>0.494500</td>\n      <td>0</td>\n    </tr>\n    <tr>\n      <th>...</th>\n      <td>...</td>\n      <td>...</td>\n      <td>...</td>\n    </tr>\n    <tr>\n      <th>72</th>\n      <td>2204061771</td>\n      <td>0.554221</td>\n      <td>1</td>\n    </tr>\n    <tr>\n      <th>73</th>\n      <td>2305111175</td>\n      <td>0.649664</td>\n      <td>1</td>\n    </tr>\n    <tr>\n      <th>74</th>\n      <td>2307281516</td>\n      <td>0.596124</td>\n      <td>1</td>\n    </tr>\n    <tr>\n      <th>75</th>\n      <td>2308011043</td>\n      <td>0.558179</td>\n      <td>1</td>\n    </tr>\n    <tr>\n      <th>76</th>\n      <td>231024231775</td>\n      <td>0.459236</td>\n      <td>1</td>\n    </tr>\n  </tbody>\n</table>\n<p>186 rows × 3 columns</p>\n</div>"
     },
     "execution_count": 72,
     "metadata": {},
     "output_type": "execute_result"
    }
   ],
   "source": [
    "df = pd.concat([df1, df2], axis=0)\n",
    "df"
   ],
   "metadata": {
    "collapsed": false,
    "ExecuteTime": {
     "end_time": "2024-01-22T14:13:02.227613800Z",
     "start_time": "2024-01-22T14:13:02.101948100Z"
    }
   },
   "id": "b898782e186f0ff7",
   "execution_count": 72
  },
  {
   "cell_type": "code",
   "outputs": [],
   "source": [
    "df.to_csv('ML_ceus.csv', index=False)"
   ],
   "metadata": {
    "collapsed": false,
    "ExecuteTime": {
     "end_time": "2024-01-22T14:13:02.286517500Z",
     "start_time": "2024-01-22T14:13:02.231640600Z"
    }
   },
   "id": "f64f0a6e0e502931",
   "execution_count": 73
  },
  {
   "cell_type": "code",
   "outputs": [],
   "source": [
    "## Read merged results"
   ],
   "metadata": {
    "collapsed": false,
    "ExecuteTime": {
     "end_time": "2024-01-22T14:13:02.414151Z",
     "start_time": "2024-01-22T14:13:02.357303500Z"
    }
   },
   "id": "808ec97c2b028855",
   "execution_count": 74
  },
  {
   "cell_type": "code",
   "outputs": [],
   "source": [
    "df_ML_ceus = pd.read_csv('ML_ceus.csv', dtype={'patient_ID': str})\n",
    "df_source = pd.read_excel('data.xlsx', dtype={'ID': str})"
   ],
   "metadata": {
    "collapsed": false,
    "ExecuteTime": {
     "end_time": "2024-01-22T14:13:03.335109300Z",
     "start_time": "2024-01-22T14:13:03.201460300Z"
    }
   },
   "id": "c98ae22da5fbdf4f",
   "execution_count": 75
  },
  {
   "cell_type": "code",
   "outputs": [],
   "source": [
    "df_source['ML_Pred_ceus'] = None"
   ],
   "metadata": {
    "collapsed": false,
    "ExecuteTime": {
     "end_time": "2024-01-22T14:13:03.773719800Z",
     "start_time": "2024-01-22T14:13:03.745764900Z"
    }
   },
   "id": "bd5a711a07ef6992",
   "execution_count": 76
  },
  {
   "cell_type": "code",
   "outputs": [],
   "source": [
    "for i, index1 in enumerate(df_source['ID']):\n",
    "    for j, index2 in enumerate(df_ML_ceus['patient_ID']):\n",
    "        if str(index1) == str(index2):\n",
    "            df_source.iloc[i, 7] = df_ML_ceus.iloc[j, 1]"
   ],
   "metadata": {
    "collapsed": false,
    "ExecuteTime": {
     "end_time": "2024-01-22T14:13:04.189579100Z",
     "start_time": "2024-01-22T14:13:04.133730500Z"
    }
   },
   "id": "57385b5f84fd1192",
   "execution_count": 77
  },
  {
   "cell_type": "code",
   "outputs": [
    {
     "data": {
      "text/plain": "               ID  ceus  Thickness  t             type  ca199  label  \\\n0      2004200282     2        0.9  2     bulging type   6.14      0   \n1      2005210964     3        0.5  1  ulcerative type   6.04      0   \n2      2008040364     2        2.8  3  ulcerative type   8.45      1   \n3      2008110235     2        1.7  3  ulcerative type  16.00      0   \n4      2008201013     3        1.3  3  ulcerative type  45.60      1   \n..            ...   ...        ... ..              ...    ...    ...   \n192  231113447942     2        1.5  2  ulcerative type  18.70      1   \n193  231117032776     3        1.1  3     bulging type   7.44      0   \n194  231121758369     3        1.5  3  ulcerative type  35.20      1   \n195  231123534082     3        2.4  4     bulging type  23.20      1   \n196  231124129584     1        1.7  4  ulcerative type   8.09      0   \n\n    ML_Pred_ceus  \n0       0.468497  \n1           None  \n2       0.630467  \n3       0.484874  \n4       0.775694  \n..           ...  \n192     0.539547  \n193     0.547659  \n194     0.639801  \n195         None  \n196     0.464728  \n\n[197 rows x 8 columns]",
      "text/html": "<div>\n<style scoped>\n    .dataframe tbody tr th:only-of-type {\n        vertical-align: middle;\n    }\n\n    .dataframe tbody tr th {\n        vertical-align: top;\n    }\n\n    .dataframe thead th {\n        text-align: right;\n    }\n</style>\n<table border=\"1\" class=\"dataframe\">\n  <thead>\n    <tr style=\"text-align: right;\">\n      <th></th>\n      <th>ID</th>\n      <th>ceus</th>\n      <th>Thickness</th>\n      <th>t</th>\n      <th>type</th>\n      <th>ca199</th>\n      <th>label</th>\n      <th>ML_Pred_ceus</th>\n    </tr>\n  </thead>\n  <tbody>\n    <tr>\n      <th>0</th>\n      <td>2004200282</td>\n      <td>2</td>\n      <td>0.9</td>\n      <td>2</td>\n      <td>bulging type</td>\n      <td>6.14</td>\n      <td>0</td>\n      <td>0.468497</td>\n    </tr>\n    <tr>\n      <th>1</th>\n      <td>2005210964</td>\n      <td>3</td>\n      <td>0.5</td>\n      <td>1</td>\n      <td>ulcerative type</td>\n      <td>6.04</td>\n      <td>0</td>\n      <td>None</td>\n    </tr>\n    <tr>\n      <th>2</th>\n      <td>2008040364</td>\n      <td>2</td>\n      <td>2.8</td>\n      <td>3</td>\n      <td>ulcerative type</td>\n      <td>8.45</td>\n      <td>1</td>\n      <td>0.630467</td>\n    </tr>\n    <tr>\n      <th>3</th>\n      <td>2008110235</td>\n      <td>2</td>\n      <td>1.7</td>\n      <td>3</td>\n      <td>ulcerative type</td>\n      <td>16.00</td>\n      <td>0</td>\n      <td>0.484874</td>\n    </tr>\n    <tr>\n      <th>4</th>\n      <td>2008201013</td>\n      <td>3</td>\n      <td>1.3</td>\n      <td>3</td>\n      <td>ulcerative type</td>\n      <td>45.60</td>\n      <td>1</td>\n      <td>0.775694</td>\n    </tr>\n    <tr>\n      <th>...</th>\n      <td>...</td>\n      <td>...</td>\n      <td>...</td>\n      <td>...</td>\n      <td>...</td>\n      <td>...</td>\n      <td>...</td>\n      <td>...</td>\n    </tr>\n    <tr>\n      <th>192</th>\n      <td>231113447942</td>\n      <td>2</td>\n      <td>1.5</td>\n      <td>2</td>\n      <td>ulcerative type</td>\n      <td>18.70</td>\n      <td>1</td>\n      <td>0.539547</td>\n    </tr>\n    <tr>\n      <th>193</th>\n      <td>231117032776</td>\n      <td>3</td>\n      <td>1.1</td>\n      <td>3</td>\n      <td>bulging type</td>\n      <td>7.44</td>\n      <td>0</td>\n      <td>0.547659</td>\n    </tr>\n    <tr>\n      <th>194</th>\n      <td>231121758369</td>\n      <td>3</td>\n      <td>1.5</td>\n      <td>3</td>\n      <td>ulcerative type</td>\n      <td>35.20</td>\n      <td>1</td>\n      <td>0.639801</td>\n    </tr>\n    <tr>\n      <th>195</th>\n      <td>231123534082</td>\n      <td>3</td>\n      <td>2.4</td>\n      <td>4</td>\n      <td>bulging type</td>\n      <td>23.20</td>\n      <td>1</td>\n      <td>None</td>\n    </tr>\n    <tr>\n      <th>196</th>\n      <td>231124129584</td>\n      <td>1</td>\n      <td>1.7</td>\n      <td>4</td>\n      <td>ulcerative type</td>\n      <td>8.09</td>\n      <td>0</td>\n      <td>0.464728</td>\n    </tr>\n  </tbody>\n</table>\n<p>197 rows × 8 columns</p>\n</div>"
     },
     "execution_count": 78,
     "metadata": {},
     "output_type": "execute_result"
    }
   ],
   "source": [
    "df_source"
   ],
   "metadata": {
    "collapsed": false,
    "ExecuteTime": {
     "end_time": "2024-01-22T14:13:04.863640800Z",
     "start_time": "2024-01-22T14:13:04.815769700Z"
    }
   },
   "id": "89f594ea25ad8c4c",
   "execution_count": 78
  },
  {
   "cell_type": "code",
   "outputs": [],
   "source": [
    "df_source.to_csv('data_Pred_ceus.csv', index=False)"
   ],
   "metadata": {
    "collapsed": false,
    "ExecuteTime": {
     "end_time": "2024-01-22T14:13:05.759654Z",
     "start_time": "2024-01-22T14:13:05.728738500Z"
    }
   },
   "id": "96ab59c38ab4a8cd",
   "execution_count": 79
  },
  {
   "cell_type": "code",
   "outputs": [],
   "source": [],
   "metadata": {
    "collapsed": false
   },
   "id": "5154506382a1bea9"
  }
 ],
 "metadata": {
  "kernelspec": {
   "display_name": "Python 3",
   "language": "python",
   "name": "python3"
  },
  "language_info": {
   "codemirror_mode": {
    "name": "ipython",
    "version": 2
   },
   "file_extension": ".py",
   "mimetype": "text/x-python",
   "name": "python",
   "nbconvert_exporter": "python",
   "pygments_lexer": "ipython2",
   "version": "2.7.6"
  }
 },
 "nbformat": 4,
 "nbformat_minor": 5
}
