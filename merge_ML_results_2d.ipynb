{
 "cells": [
  {
   "cell_type": "code",
   "execution_count": 1,
   "id": "initial_id",
   "metadata": {
    "collapsed": true,
    "ExecuteTime": {
     "end_time": "2024-01-22T13:01:59.137364400Z",
     "start_time": "2024-01-22T13:01:58.588538400Z"
    }
   },
   "outputs": [],
   "source": [
    "import numpy as np\n",
    "import pandas as pd"
   ]
  },
  {
   "cell_type": "code",
   "outputs": [],
   "source": [
    "df_2d_val = pd.read_csv('resources/results/2D/cv_val_prediction.csv', index_col=0)\n",
    "df_2d_test = pd.read_csv('resources/results/2D/test_prediction.csv', index_col=0)"
   ],
   "metadata": {
    "collapsed": false,
    "ExecuteTime": {
     "end_time": "2024-01-22T13:02:10.988627600Z",
     "start_time": "2024-01-22T13:02:10.956686300Z"
    }
   },
   "id": "ced4e2b15cadc8c8",
   "execution_count": 2
  },
  {
   "cell_type": "code",
   "outputs": [],
   "source": [
    "df_2d = pd.concat([df_2d_val, df_2d_test])"
   ],
   "metadata": {
    "collapsed": false,
    "ExecuteTime": {
     "end_time": "2024-01-22T13:02:20.609287600Z",
     "start_time": "2024-01-22T13:02:20.585353Z"
    }
   },
   "id": "77a54e5876045122",
   "execution_count": 3
  },
  {
   "cell_type": "code",
   "outputs": [
    {
     "data": {
      "text/plain": "198"
     },
     "execution_count": 4,
     "metadata": {},
     "output_type": "execute_result"
    }
   ],
   "source": [
    "_index_list = list(df_2d.index)\n",
    "index_list = [i.split('_')[0] for i in _index_list]\n",
    "index_set = set(index_list)\n",
    "len(index_set)"
   ],
   "metadata": {
    "collapsed": false,
    "ExecuteTime": {
     "end_time": "2024-01-22T13:02:31.614624300Z",
     "start_time": "2024-01-22T13:02:31.585673200Z"
    }
   },
   "id": "86a9745be078f6eb",
   "execution_count": 4
  },
  {
   "cell_type": "code",
   "outputs": [],
   "source": [
    "data_2d_0 = {}\n",
    "data_2d_1 = {}"
   ],
   "metadata": {
    "collapsed": false,
    "ExecuteTime": {
     "end_time": "2024-01-22T13:03:00.861045500Z",
     "start_time": "2024-01-22T13:03:00.840064800Z"
    }
   },
   "id": "6ed31af3c5b32595",
   "execution_count": 7
  },
  {
   "cell_type": "code",
   "outputs": [],
   "source": [
    "for row in df_2d.itertuples():\n",
    "    index = row.Index\n",
    "    pred = row.Pred\n",
    "    label = row.Label\n",
    "\n",
    "    if label == 0:\n",
    "        pre_index = index.split('_')[0]\n",
    "        if pre_index not in list(data_2d_0.keys()):\n",
    "            data_2d_0[pre_index] = []\n",
    "        data_2d_0[pre_index].append(pred)\n",
    "    else:\n",
    "        pre_index = index.split('_')[0]\n",
    "        if pre_index not in list(data_2d_1.keys()):\n",
    "            data_2d_1[pre_index] = []\n",
    "        data_2d_1[pre_index].append(pred)"
   ],
   "metadata": {
    "collapsed": false,
    "ExecuteTime": {
     "end_time": "2024-01-22T13:03:21.470231500Z",
     "start_time": "2024-01-22T13:03:21.434335300Z"
    }
   },
   "id": "f8a51a845757e6bc",
   "execution_count": 9
  },
  {
   "cell_type": "code",
   "outputs": [
    {
     "data": {
      "text/plain": "(119, 79)"
     },
     "execution_count": 10,
     "metadata": {},
     "output_type": "execute_result"
    }
   ],
   "source": [
    "len(data_2d_0.keys()), len(data_2d_1.keys())"
   ],
   "metadata": {
    "collapsed": false,
    "ExecuteTime": {
     "end_time": "2024-01-22T13:03:28.555768Z",
     "start_time": "2024-01-22T13:03:28.528808900Z"
    }
   },
   "id": "23610c26ec87fe4e",
   "execution_count": 10
  },
  {
   "cell_type": "code",
   "outputs": [],
   "source": [
    "df_2d_merged_data_0 = {\n",
    "    'patient_ID': [],\n",
    "    'Pred': [],\n",
    "    'Label': []\n",
    "}\n",
    "\n",
    "df_2d_merged_data_1 = {\n",
    "    'patient_ID': [],\n",
    "    'Pred': [],\n",
    "    'Label': []\n",
    "}"
   ],
   "metadata": {
    "collapsed": false,
    "ExecuteTime": {
     "end_time": "2024-01-22T13:04:55.596222Z",
     "start_time": "2024-01-22T13:04:55.576276Z"
    }
   },
   "id": "6121e31287f86df8",
   "execution_count": 13
  },
  {
   "cell_type": "code",
   "outputs": [],
   "source": [
    "for key in data_2d_0.keys():\n",
    "    Pred_value = np.median(np.array(data_2d_0[key]))\n",
    "    df_2d_merged_data_0['patient_ID'].append(key)\n",
    "    df_2d_merged_data_0['Pred'].append(Pred_value)\n",
    "    df_2d_merged_data_0['Label'].append(0)"
   ],
   "metadata": {
    "collapsed": false,
    "ExecuteTime": {
     "end_time": "2024-01-22T13:04:55.775778900Z",
     "start_time": "2024-01-22T13:04:55.747818Z"
    }
   },
   "id": "ca539140bf735dc8",
   "execution_count": 14
  },
  {
   "cell_type": "code",
   "outputs": [],
   "source": [
    "for key in data_2d_1.keys():\n",
    "    Pred_value = np.median(np.array(data_2d_1[key]))\n",
    "    df_2d_merged_data_1['patient_ID'].append(key)\n",
    "    df_2d_merged_data_1['Pred'].append(Pred_value)\n",
    "    df_2d_merged_data_1['Label'].append(1)"
   ],
   "metadata": {
    "collapsed": false,
    "ExecuteTime": {
     "end_time": "2024-01-22T13:04:55.961272700Z",
     "start_time": "2024-01-22T13:04:55.927372900Z"
    }
   },
   "id": "a3244cc648b3361",
   "execution_count": 15
  },
  {
   "cell_type": "code",
   "outputs": [],
   "source": [
    "df1 = pd.DataFrame(df_2d_merged_data_0)\n",
    "df2 = pd.DataFrame(df_2d_merged_data_1)"
   ],
   "metadata": {
    "collapsed": false,
    "ExecuteTime": {
     "end_time": "2024-01-22T13:05:05.305416700Z",
     "start_time": "2024-01-22T13:05:05.283472300Z"
    }
   },
   "id": "117fcbc5b0ee79a7",
   "execution_count": 16
  },
  {
   "cell_type": "code",
   "outputs": [
    {
     "data": {
      "text/plain": "      patient_ID      Pred  Label\n0     2005050152  0.859328      1\n1     2006180711  0.149250      1\n2     2006260667  0.139854      1\n3     2006260791  0.903943      1\n4     2007020957  0.922270      1\n..           ...       ...    ...\n74  231113447942  0.704068      1\n75  231121758369  0.956841      1\n76    2201141069  0.970033      1\n77    2309210576  0.105594      1\n78  231024231775  0.354447      1\n\n[79 rows x 3 columns]",
      "text/html": "<div>\n<style scoped>\n    .dataframe tbody tr th:only-of-type {\n        vertical-align: middle;\n    }\n\n    .dataframe tbody tr th {\n        vertical-align: top;\n    }\n\n    .dataframe thead th {\n        text-align: right;\n    }\n</style>\n<table border=\"1\" class=\"dataframe\">\n  <thead>\n    <tr style=\"text-align: right;\">\n      <th></th>\n      <th>patient_ID</th>\n      <th>Pred</th>\n      <th>Label</th>\n    </tr>\n  </thead>\n  <tbody>\n    <tr>\n      <th>0</th>\n      <td>2005050152</td>\n      <td>0.859328</td>\n      <td>1</td>\n    </tr>\n    <tr>\n      <th>1</th>\n      <td>2006180711</td>\n      <td>0.149250</td>\n      <td>1</td>\n    </tr>\n    <tr>\n      <th>2</th>\n      <td>2006260667</td>\n      <td>0.139854</td>\n      <td>1</td>\n    </tr>\n    <tr>\n      <th>3</th>\n      <td>2006260791</td>\n      <td>0.903943</td>\n      <td>1</td>\n    </tr>\n    <tr>\n      <th>4</th>\n      <td>2007020957</td>\n      <td>0.922270</td>\n      <td>1</td>\n    </tr>\n    <tr>\n      <th>...</th>\n      <td>...</td>\n      <td>...</td>\n      <td>...</td>\n    </tr>\n    <tr>\n      <th>74</th>\n      <td>231113447942</td>\n      <td>0.704068</td>\n      <td>1</td>\n    </tr>\n    <tr>\n      <th>75</th>\n      <td>231121758369</td>\n      <td>0.956841</td>\n      <td>1</td>\n    </tr>\n    <tr>\n      <th>76</th>\n      <td>2201141069</td>\n      <td>0.970033</td>\n      <td>1</td>\n    </tr>\n    <tr>\n      <th>77</th>\n      <td>2309210576</td>\n      <td>0.105594</td>\n      <td>1</td>\n    </tr>\n    <tr>\n      <th>78</th>\n      <td>231024231775</td>\n      <td>0.354447</td>\n      <td>1</td>\n    </tr>\n  </tbody>\n</table>\n<p>79 rows × 3 columns</p>\n</div>"
     },
     "execution_count": 17,
     "metadata": {},
     "output_type": "execute_result"
    }
   ],
   "source": [
    "df2"
   ],
   "metadata": {
    "collapsed": false,
    "ExecuteTime": {
     "end_time": "2024-01-22T13:05:06.020779300Z",
     "start_time": "2024-01-22T13:05:05.987866500Z"
    }
   },
   "id": "7a0566d1368f42b4",
   "execution_count": 17
  },
  {
   "cell_type": "code",
   "outputs": [
    {
     "data": {
      "text/plain": "     patient_ID      Pred  Label\n0    2004030366  0.147626      0\n1    2004070156  0.336677      0\n2    2005131682  0.007298      0\n3    2005180570  0.410370      0\n4    2005210964  0.101178      0\n..          ...       ...    ...\n114  2204010630  0.222111      0\n115  2303311257  0.772745      0\n116  2303311357  0.373699      0\n117  2306191355  0.246615      0\n118  2310085301  0.224631      0\n\n[119 rows x 3 columns]",
      "text/html": "<div>\n<style scoped>\n    .dataframe tbody tr th:only-of-type {\n        vertical-align: middle;\n    }\n\n    .dataframe tbody tr th {\n        vertical-align: top;\n    }\n\n    .dataframe thead th {\n        text-align: right;\n    }\n</style>\n<table border=\"1\" class=\"dataframe\">\n  <thead>\n    <tr style=\"text-align: right;\">\n      <th></th>\n      <th>patient_ID</th>\n      <th>Pred</th>\n      <th>Label</th>\n    </tr>\n  </thead>\n  <tbody>\n    <tr>\n      <th>0</th>\n      <td>2004030366</td>\n      <td>0.147626</td>\n      <td>0</td>\n    </tr>\n    <tr>\n      <th>1</th>\n      <td>2004070156</td>\n      <td>0.336677</td>\n      <td>0</td>\n    </tr>\n    <tr>\n      <th>2</th>\n      <td>2005131682</td>\n      <td>0.007298</td>\n      <td>0</td>\n    </tr>\n    <tr>\n      <th>3</th>\n      <td>2005180570</td>\n      <td>0.410370</td>\n      <td>0</td>\n    </tr>\n    <tr>\n      <th>4</th>\n      <td>2005210964</td>\n      <td>0.101178</td>\n      <td>0</td>\n    </tr>\n    <tr>\n      <th>...</th>\n      <td>...</td>\n      <td>...</td>\n      <td>...</td>\n    </tr>\n    <tr>\n      <th>114</th>\n      <td>2204010630</td>\n      <td>0.222111</td>\n      <td>0</td>\n    </tr>\n    <tr>\n      <th>115</th>\n      <td>2303311257</td>\n      <td>0.772745</td>\n      <td>0</td>\n    </tr>\n    <tr>\n      <th>116</th>\n      <td>2303311357</td>\n      <td>0.373699</td>\n      <td>0</td>\n    </tr>\n    <tr>\n      <th>117</th>\n      <td>2306191355</td>\n      <td>0.246615</td>\n      <td>0</td>\n    </tr>\n    <tr>\n      <th>118</th>\n      <td>2310085301</td>\n      <td>0.224631</td>\n      <td>0</td>\n    </tr>\n  </tbody>\n</table>\n<p>119 rows × 3 columns</p>\n</div>"
     },
     "execution_count": 18,
     "metadata": {},
     "output_type": "execute_result"
    }
   ],
   "source": [
    "df1"
   ],
   "metadata": {
    "collapsed": false,
    "ExecuteTime": {
     "end_time": "2024-01-22T13:05:12.118215100Z",
     "start_time": "2024-01-22T13:05:12.050368500Z"
    }
   },
   "id": "be85615780b86c09",
   "execution_count": 18
  },
  {
   "cell_type": "code",
   "outputs": [
    {
     "data": {
      "text/plain": "      patient_ID      Pred  Label\n0     2004030366  0.147626      0\n1     2004070156  0.336677      0\n2     2005131682  0.007298      0\n3     2005180570  0.410370      0\n4     2005210964  0.101178      0\n..           ...       ...    ...\n74  231113447942  0.704068      1\n75  231121758369  0.956841      1\n76    2201141069  0.970033      1\n77    2309210576  0.105594      1\n78  231024231775  0.354447      1\n\n[198 rows x 3 columns]",
      "text/html": "<div>\n<style scoped>\n    .dataframe tbody tr th:only-of-type {\n        vertical-align: middle;\n    }\n\n    .dataframe tbody tr th {\n        vertical-align: top;\n    }\n\n    .dataframe thead th {\n        text-align: right;\n    }\n</style>\n<table border=\"1\" class=\"dataframe\">\n  <thead>\n    <tr style=\"text-align: right;\">\n      <th></th>\n      <th>patient_ID</th>\n      <th>Pred</th>\n      <th>Label</th>\n    </tr>\n  </thead>\n  <tbody>\n    <tr>\n      <th>0</th>\n      <td>2004030366</td>\n      <td>0.147626</td>\n      <td>0</td>\n    </tr>\n    <tr>\n      <th>1</th>\n      <td>2004070156</td>\n      <td>0.336677</td>\n      <td>0</td>\n    </tr>\n    <tr>\n      <th>2</th>\n      <td>2005131682</td>\n      <td>0.007298</td>\n      <td>0</td>\n    </tr>\n    <tr>\n      <th>3</th>\n      <td>2005180570</td>\n      <td>0.410370</td>\n      <td>0</td>\n    </tr>\n    <tr>\n      <th>4</th>\n      <td>2005210964</td>\n      <td>0.101178</td>\n      <td>0</td>\n    </tr>\n    <tr>\n      <th>...</th>\n      <td>...</td>\n      <td>...</td>\n      <td>...</td>\n    </tr>\n    <tr>\n      <th>74</th>\n      <td>231113447942</td>\n      <td>0.704068</td>\n      <td>1</td>\n    </tr>\n    <tr>\n      <th>75</th>\n      <td>231121758369</td>\n      <td>0.956841</td>\n      <td>1</td>\n    </tr>\n    <tr>\n      <th>76</th>\n      <td>2201141069</td>\n      <td>0.970033</td>\n      <td>1</td>\n    </tr>\n    <tr>\n      <th>77</th>\n      <td>2309210576</td>\n      <td>0.105594</td>\n      <td>1</td>\n    </tr>\n    <tr>\n      <th>78</th>\n      <td>231024231775</td>\n      <td>0.354447</td>\n      <td>1</td>\n    </tr>\n  </tbody>\n</table>\n<p>198 rows × 3 columns</p>\n</div>"
     },
     "execution_count": 19,
     "metadata": {},
     "output_type": "execute_result"
    }
   ],
   "source": [
    "df = pd.concat([df1, df2], axis=0)\n",
    "df"
   ],
   "metadata": {
    "collapsed": false,
    "ExecuteTime": {
     "end_time": "2024-01-22T13:05:19.191080800Z",
     "start_time": "2024-01-22T13:05:19.147180Z"
    }
   },
   "id": "b898782e186f0ff7",
   "execution_count": 19
  },
  {
   "cell_type": "code",
   "outputs": [],
   "source": [
    "df.to_csv('ML_2d.csv', index=False)"
   ],
   "metadata": {
    "collapsed": false,
    "ExecuteTime": {
     "end_time": "2024-01-22T13:05:27.468045600Z",
     "start_time": "2024-01-22T13:05:27.441080500Z"
    }
   },
   "id": "f64f0a6e0e502931",
   "execution_count": 20
  },
  {
   "cell_type": "code",
   "outputs": [],
   "source": [
    "## Read merged results"
   ],
   "metadata": {
    "collapsed": false,
    "ExecuteTime": {
     "end_time": "2024-01-22T13:05:28.096272300Z",
     "start_time": "2024-01-22T13:05:28.073334900Z"
    }
   },
   "id": "808ec97c2b028855",
   "execution_count": 21
  },
  {
   "cell_type": "code",
   "outputs": [],
   "source": [
    "df_ML_2d = pd.read_csv('ML_2d.csv', dtype={'patient_ID': str})\n",
    "df_source = pd.read_excel('data.xlsx', dtype={'ID': str})"
   ],
   "metadata": {
    "collapsed": false,
    "ExecuteTime": {
     "end_time": "2024-01-22T13:05:46.402799200Z",
     "start_time": "2024-01-22T13:05:45.469807800Z"
    }
   },
   "id": "c98ae22da5fbdf4f",
   "execution_count": 22
  },
  {
   "cell_type": "code",
   "outputs": [],
   "source": [
    "df_source['ML_Pred_2d'] = None"
   ],
   "metadata": {
    "collapsed": false,
    "ExecuteTime": {
     "end_time": "2024-01-22T13:05:46.426736200Z",
     "start_time": "2024-01-22T13:05:46.406787600Z"
    }
   },
   "id": "bd5a711a07ef6992",
   "execution_count": 23
  },
  {
   "cell_type": "code",
   "outputs": [],
   "source": [
    "for i, index1 in enumerate(df_source['ID']):\n",
    "    for j, index2 in enumerate(df_ML_2d['patient_ID']):\n",
    "        if str(index1) == str(index2):\n",
    "            df_source.iloc[i, 7] = df_ML_2d.iloc[j, 1]"
   ],
   "metadata": {
    "collapsed": false,
    "ExecuteTime": {
     "end_time": "2024-01-22T13:06:13.987118200Z",
     "start_time": "2024-01-22T13:06:13.924258600Z"
    }
   },
   "id": "57385b5f84fd1192",
   "execution_count": 24
  },
  {
   "cell_type": "code",
   "outputs": [
    {
     "data": {
      "text/plain": "               ID  ceus  Thickness  t             type  ca199  label  \\\n0      2004200282     2        0.9  2     bulging type   6.14      0   \n1      2005210964     3        0.5  1  ulcerative type   6.04      0   \n2      2008040364     2        2.8  3  ulcerative type   8.45      1   \n3      2008110235     2        1.7  3  ulcerative type  16.00      0   \n4      2008201013     3        1.3  3  ulcerative type  45.60      1   \n..            ...   ...        ... ..              ...    ...    ...   \n192  231113447942     2        1.5  2  ulcerative type  18.70      1   \n193  231117032776     3        1.1  3     bulging type   7.44      0   \n194  231121758369     3        1.5  3  ulcerative type  35.20      1   \n195  231123534082     3        2.4  4     bulging type  23.20      1   \n196  231124129584     1        1.7  4  ulcerative type   8.09      0   \n\n    ML_Pred_2d  \n0         None  \n1     0.101178  \n2     0.515748  \n3     0.395328  \n4     0.360092  \n..         ...  \n192   0.704068  \n193   0.407989  \n194   0.956841  \n195       None  \n196   0.669481  \n\n[197 rows x 8 columns]",
      "text/html": "<div>\n<style scoped>\n    .dataframe tbody tr th:only-of-type {\n        vertical-align: middle;\n    }\n\n    .dataframe tbody tr th {\n        vertical-align: top;\n    }\n\n    .dataframe thead th {\n        text-align: right;\n    }\n</style>\n<table border=\"1\" class=\"dataframe\">\n  <thead>\n    <tr style=\"text-align: right;\">\n      <th></th>\n      <th>ID</th>\n      <th>ceus</th>\n      <th>Thickness</th>\n      <th>t</th>\n      <th>type</th>\n      <th>ca199</th>\n      <th>label</th>\n      <th>ML_Pred_2d</th>\n    </tr>\n  </thead>\n  <tbody>\n    <tr>\n      <th>0</th>\n      <td>2004200282</td>\n      <td>2</td>\n      <td>0.9</td>\n      <td>2</td>\n      <td>bulging type</td>\n      <td>6.14</td>\n      <td>0</td>\n      <td>None</td>\n    </tr>\n    <tr>\n      <th>1</th>\n      <td>2005210964</td>\n      <td>3</td>\n      <td>0.5</td>\n      <td>1</td>\n      <td>ulcerative type</td>\n      <td>6.04</td>\n      <td>0</td>\n      <td>0.101178</td>\n    </tr>\n    <tr>\n      <th>2</th>\n      <td>2008040364</td>\n      <td>2</td>\n      <td>2.8</td>\n      <td>3</td>\n      <td>ulcerative type</td>\n      <td>8.45</td>\n      <td>1</td>\n      <td>0.515748</td>\n    </tr>\n    <tr>\n      <th>3</th>\n      <td>2008110235</td>\n      <td>2</td>\n      <td>1.7</td>\n      <td>3</td>\n      <td>ulcerative type</td>\n      <td>16.00</td>\n      <td>0</td>\n      <td>0.395328</td>\n    </tr>\n    <tr>\n      <th>4</th>\n      <td>2008201013</td>\n      <td>3</td>\n      <td>1.3</td>\n      <td>3</td>\n      <td>ulcerative type</td>\n      <td>45.60</td>\n      <td>1</td>\n      <td>0.360092</td>\n    </tr>\n    <tr>\n      <th>...</th>\n      <td>...</td>\n      <td>...</td>\n      <td>...</td>\n      <td>...</td>\n      <td>...</td>\n      <td>...</td>\n      <td>...</td>\n      <td>...</td>\n    </tr>\n    <tr>\n      <th>192</th>\n      <td>231113447942</td>\n      <td>2</td>\n      <td>1.5</td>\n      <td>2</td>\n      <td>ulcerative type</td>\n      <td>18.70</td>\n      <td>1</td>\n      <td>0.704068</td>\n    </tr>\n    <tr>\n      <th>193</th>\n      <td>231117032776</td>\n      <td>3</td>\n      <td>1.1</td>\n      <td>3</td>\n      <td>bulging type</td>\n      <td>7.44</td>\n      <td>0</td>\n      <td>0.407989</td>\n    </tr>\n    <tr>\n      <th>194</th>\n      <td>231121758369</td>\n      <td>3</td>\n      <td>1.5</td>\n      <td>3</td>\n      <td>ulcerative type</td>\n      <td>35.20</td>\n      <td>1</td>\n      <td>0.956841</td>\n    </tr>\n    <tr>\n      <th>195</th>\n      <td>231123534082</td>\n      <td>3</td>\n      <td>2.4</td>\n      <td>4</td>\n      <td>bulging type</td>\n      <td>23.20</td>\n      <td>1</td>\n      <td>None</td>\n    </tr>\n    <tr>\n      <th>196</th>\n      <td>231124129584</td>\n      <td>1</td>\n      <td>1.7</td>\n      <td>4</td>\n      <td>ulcerative type</td>\n      <td>8.09</td>\n      <td>0</td>\n      <td>0.669481</td>\n    </tr>\n  </tbody>\n</table>\n<p>197 rows × 8 columns</p>\n</div>"
     },
     "execution_count": 25,
     "metadata": {},
     "output_type": "execute_result"
    }
   ],
   "source": [
    "df_source"
   ],
   "metadata": {
    "collapsed": false,
    "ExecuteTime": {
     "end_time": "2024-01-22T13:06:16.286715300Z",
     "start_time": "2024-01-22T13:06:16.240875600Z"
    }
   },
   "id": "89f594ea25ad8c4c",
   "execution_count": 25
  },
  {
   "cell_type": "code",
   "outputs": [],
   "source": [
    "df_source.to_csv('data_Pred_2d.csv', index=False)"
   ],
   "metadata": {
    "collapsed": false,
    "ExecuteTime": {
     "end_time": "2024-01-22T13:06:25.189500300Z",
     "start_time": "2024-01-22T13:06:25.163419700Z"
    }
   },
   "id": "96ab59c38ab4a8cd",
   "execution_count": 26
  },
  {
   "cell_type": "code",
   "outputs": [],
   "source": [],
   "metadata": {
    "collapsed": false
   },
   "id": "5154506382a1bea9"
  }
 ],
 "metadata": {
  "kernelspec": {
   "display_name": "Python 3",
   "language": "python",
   "name": "python3"
  },
  "language_info": {
   "codemirror_mode": {
    "name": "ipython",
    "version": 2
   },
   "file_extension": ".py",
   "mimetype": "text/x-python",
   "name": "python",
   "nbconvert_exporter": "python",
   "pygments_lexer": "ipython2",
   "version": "2.7.6"
  }
 },
 "nbformat": 4,
 "nbformat_minor": 5
}
